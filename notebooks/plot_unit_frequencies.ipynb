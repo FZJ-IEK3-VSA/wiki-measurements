{
 "cells": [
  {
   "cell_type": "markdown",
   "metadata": {},
   "source": [
    "# Plot frequencies of units within Wikipedia \n",
    "The frequencies are either based on occurances within Wikipedia articles (fulltext)\n",
    "or only within convert templates in Wikipedia articles (quantities)."
   ]
  },
  {
   "cell_type": "code",
   "execution_count": 23,
   "metadata": {},
   "outputs": [],
   "source": [
    "import json\n",
    "%matplotlib inline\n",
    "import matplotlib.pyplot as plt \n",
    "\n",
    "paths = [\"fulltext_unit_freqs.json\", \"quantities_unit_freqs.json\"]\n",
    "\n",
    "for path in paths:\n",
    "    with open() as f:\n",
    "        frequency_data = json.load(f)\n",
    "      \n",
    "    counts = [count for (_, count) in frequency_data[\"frequencies_of_units_with_label\"]]\n",
    "\n",
    "    plt.figure(dpi=2000) \n",
    "    plt.yscale('log')\n",
    "    plt.bar(range(len(counts)), counts)\n",
    "    plt.show()"
   ]
  }
 ],
 "metadata": {
  "kernelspec": {
   "display_name": "Python 3.9.7 ('build_wiki_datasets_env')",
   "language": "python",
   "name": "python3"
  },
  "language_info": {
   "codemirror_mode": {
    "name": "ipython",
    "version": 3
   },
   "file_extension": ".py",
   "mimetype": "text/x-python",
   "name": "python",
   "nbconvert_exporter": "python",
   "pygments_lexer": "ipython3",
   "version": "3.9.7"
  },
  "orig_nbformat": 4,
  "vscode": {
   "interpreter": {
    "hash": "05fc83d2f7c80939e196ba9f3061880861fe1446b2ad91645c9a6a2c73737de2"
   }
  }
 },
 "nbformat": 4,
 "nbformat_minor": 2
}
